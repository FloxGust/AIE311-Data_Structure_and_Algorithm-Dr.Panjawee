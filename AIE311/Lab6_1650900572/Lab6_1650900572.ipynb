{
 "cells": [
  {
   "cell_type": "code",
   "execution_count": 8,
   "metadata": {},
   "outputs": [
    {
     "name": "stdout",
     "output_type": "stream",
     "text": [
      "Found 62 at position 10\n"
     ]
    }
   ],
   "source": [
    "# Exercise 1\n",
    "\n",
    "def linear_search(arr, target):\n",
    "    for i in range(len(arr)):\n",
    "        if arr[i] == target:\n",
    "            return i \n",
    "    return -1 \n",
    "\n",
    "\n",
    "data = [45, 23, 78, 10, 35, 67, 89, 5, 34, 62, 54, 91, 12, 3, 42]\n",
    "\n",
    "target = 62\n",
    "result = linear_search(data, target)\n",
    "\n",
    "if result != -1:\n",
    "    print(f\"Found {target} at position {result + 1}\") \n",
    "else:\n",
    "    print(f\"{target} not found in the list.\")"
   ]
  },
  {
   "cell_type": "code",
   "execution_count": 9,
   "metadata": {},
   "outputs": [
    {
     "name": "stdout",
     "output_type": "stream",
     "text": [
      "Sorted Data: [3, 5, 10, 12, 23, 34, 35, 42, 45, 54, 62, 67, 78, 89, 91]\n",
      "Found 62 at position 11 in the sorted list.\n"
     ]
    }
   ],
   "source": [
    "# Exercise 2\n",
    "\n",
    "def bubble_sort(arr):\n",
    "    n = len(arr)\n",
    "    for i in range(n - 1):\n",
    "        for j in range(n - 1 - i):\n",
    "            if arr[j] > arr[j + 1]:\n",
    "                arr[j], arr[j + 1] = arr[j + 1], arr[j]\n",
    "    return arr\n",
    "\n",
    "def linear_search(arr, target):\n",
    "    for i in range(len(arr)):\n",
    "        if arr[i] == target:\n",
    "            return i\n",
    "    return -1\n",
    "\n",
    "data = [45, 23, 78, 10, 35, 67, 89, 5, 34, 62, 54, 91, 12, 3, 42]\n",
    "\n",
    "\n",
    "sorted_data = bubble_sort(data)\n",
    "print(\"Sorted Data:\", sorted_data)\n",
    "\n",
    "target = 62\n",
    "result = linear_search(sorted_data, target)\n",
    "\n",
    "if result != -1:\n",
    "    print(f\"Found {target} at position {result + 1} in the sorted list.\")\n",
    "else:\n",
    "    print(f\"{target} not found in the sorted list.\")\n"
   ]
  },
  {
   "cell_type": "code",
   "execution_count": 10,
   "metadata": {},
   "outputs": [
    {
     "name": "stdout",
     "output_type": "stream",
     "text": [
      "Found 78 in the tree using DFS.\n",
      "Found 78 in the tree using BFS.\n"
     ]
    }
   ],
   "source": [
    "# Exercise 3\n",
    "\n",
    "class Node:\n",
    "    def __init__(self, value):\n",
    "        self.value = value\n",
    "        self.left = None\n",
    "        self.right = None\n",
    "\n",
    "def dfs_search(root, target):\n",
    "    stack = [root]\n",
    "    while stack:\n",
    "        current = stack.pop()\n",
    "        if current.value == target:\n",
    "            return current.value\n",
    "        if current.right:\n",
    "            stack.append(current.right)\n",
    "        if current.left:\n",
    "            stack.append(current.left)\n",
    "    return None\n",
    "\n",
    "root = Node(45)\n",
    "root.left = Node(23)\n",
    "root.right = Node(78)\n",
    "root.left.left = Node(10)\n",
    "root.left.right = Node(35)\n",
    "root.right.left = Node(67)\n",
    "root.right.right = Node(89)\n",
    "\n",
    "target = 78\n",
    "result = dfs_search(root, target)\n",
    "\n",
    "if result:\n",
    "    print(f\"Found {target} in the tree using DFS.\")\n",
    "else:\n",
    "    print(f\"{target} not found in the tree using DFS.\")\n",
    "\n",
    "\n",
    "# Exercise 4\n",
    "\n",
    "def bfs_search(root, target):\n",
    "    if not root:\n",
    "        return None\n",
    "\n",
    "    queue = [root]\n",
    "    while queue:\n",
    "        current = queue.pop(0)\n",
    "        if current.value == target:\n",
    "            return current.value \n",
    "        if current.left:\n",
    "            queue.append(current.left)\n",
    "        if current.right:\n",
    "            queue.append(current.right)\n",
    "    return None\n",
    "\n",
    "target = 78\n",
    "result = bfs_search(root, target)\n",
    "\n",
    "if result:\n",
    "    print(f\"Found {target} in the tree using BFS.\")\n",
    "else:\n",
    "    print(f\"{target} not found in the tree using BFS.\")\n",
    "\n",
    "\n"
   ]
  },
  {
   "cell_type": "markdown",
   "metadata": {},
   "source": [
    "# Exercise 5\n",
    "\n",
    "อธิบายโค้ด BFS_Search\n",
    "\n",
    "def bfs_search(root, target):\n",
    "    if not root:  # ตรวจสอบว่าต้นไม้เป็นค่าว่างหรือไม่\n",
    "        return None\n",
    "\n",
    "    queue = [root]  # ใช้ queue (ลำดับโหนด) เริ่มต้นด้วยโหนดราก\n",
    "    while queue:  # วนซ้ำจนกว่า queue จะว่างเปล่า\n",
    "        current = queue.pop(0)  # นำโหนดตัวแรกใน queue ออกมาเพื่อตรวจสอบ\n",
    "        if current.value == target:  # ตรวจสอบว่าโหนดปัจจุบันมีค่าตรงกับเป้าหมายหรือไม่\n",
    "            return current.value  # ถ้าพบเป้าหมายให้ส่งค่ากลับและหยุดทำงาน\n",
    "        if current.left:  # ถ้าโหนดปัจจุบันมีลูกทางซ้าย\n",
    "            queue.append(current.left)  # เพิ่มโหนดลูกทางซ้ายเข้าไปใน queue\n",
    "        if current.right:  # ถ้าโหนดปัจจุบันมีลูกทางขวา\n",
    "            queue.append(current.right)  # เพิ่มโหนดลูกทางขวาเข้าไปใน queue\n",
    "    return None  # ถ้าค้นหาไม่พบเป้าหมาย ให้ส่งค่า None กลับ\n",
    "\n",
    "เปรียบเทียบ BFS กับ DFS:\n",
    "BFS เหมาะสำหรับค้นหาในระดับใกล้ ๆ ก่อน เช่น การค้นหาเส้นทางสั้นที่สุด\n",
    "DFS เหมาะสำหรับค้นหาในเชิงลึก เช่น การหาทางออกในเขาวงกต"
   ]
  }
 ],
 "metadata": {
  "kernelspec": {
   "display_name": "Python 3",
   "language": "python",
   "name": "python3"
  },
  "language_info": {
   "codemirror_mode": {
    "name": "ipython",
    "version": 3
   },
   "file_extension": ".py",
   "mimetype": "text/x-python",
   "name": "python",
   "nbconvert_exporter": "python",
   "pygments_lexer": "ipython3",
   "version": "3.10.1"
  }
 },
 "nbformat": 4,
 "nbformat_minor": 2
}
